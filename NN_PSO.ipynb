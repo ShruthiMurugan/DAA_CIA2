{
 "cells": [
  {
   "cell_type": "markdown",
   "id": "d5a71340",
   "metadata": {},
   "source": [
    "# Optimization using PSO"
   ]
  },
  {
   "cell_type": "markdown",
   "id": "4ab34b7c",
   "metadata": {},
   "source": [
    "##  Import libraries"
   ]
  },
  {
   "cell_type": "code",
   "execution_count": null,
   "id": "ea47ac93",
   "metadata": {},
   "outputs": [],
   "source": [
    "import numpy as np\n",
    "from keras.models import Sequential\n",
    "from keras.layers import Dense\n",
    "from keras.optimizers import Adam\n",
    "from pyswarm import pso\n",
    "from sklearn.model_selection import train_test_split\n",
    "from sklearn.preprocessing import StandardScaler\n",
    "from sklearn.metrics import accuracy_score\n",
    "import pandas as pd"
   ]
  },
  {
   "cell_type": "code",
   "execution_count": null,
   "id": "5f16d4d3",
   "metadata": {},
   "outputs": [],
   "source": [
    "# Load dataset\n",
    "data = pd.read_csv(r\"C:\\Users\\amnsh\\OneDrive\\Desktop\\DAA\\Dataset_cia2\\Bank_Personal_Loan_Modelling.csv\")"
   ]
  },
  {
   "cell_type": "code",
   "execution_count": null,
   "id": "15cce2a9",
   "metadata": {},
   "outputs": [],
   "source": [
    "# Split dataset into input and output variables\n",
    "X = data.iloc[:, :-1].values\n",
    "y = data.iloc[:, -1].values"
   ]
  },
  {
   "cell_type": "code",
   "execution_count": null,
   "id": "5dbf9a1c",
   "metadata": {},
   "outputs": [],
   "source": [
    "# Split dataset into training and testing sets\n",
    "X_train, X_test, y_train, y_test = train_test_split(X, y, test_size=0.2, random_state=42)"
   ]
  },
  {
   "cell_type": "code",
   "execution_count": null,
   "id": "a86e600d",
   "metadata": {},
   "outputs": [],
   "source": [
    "# Scale input data\n",
    "sc = StandardScaler()\n",
    "X_train = sc.fit_transform(X_train)\n",
    "X_test = sc.transform(X_test)"
   ]
  },
  {
   "cell_type": "markdown",
   "id": "1ddadb4b",
   "metadata": {},
   "source": [
    "## Neural network architecture"
   ]
  },
  {
   "cell_type": "code",
   "execution_count": null,
   "id": "771d5347",
   "metadata": {},
   "outputs": [],
   "source": [
    "def create_model(input_dim):\n",
    "    model = Sequential()\n",
    "    model.add(Dense(16, input_dim=input_dim, activation='relu'))\n",
    "    model.add(Dense(8, activation='relu'))\n",
    "    model.add(Dense(1, activation='sigmoid'))\n",
    "    model.compile(loss='binary_crossentropy', optimizer=Adam(lr=0.01), metrics=['accuracy'])\n",
    "    return model"
   ]
  },
  {
   "cell_type": "markdown",
   "id": "edf8f530",
   "metadata": {},
   "source": [
    "## Function for PSO to train neural network"
   ]
  },
  {
   "cell_type": "code",
   "execution_count": null,
   "id": "0c253ece",
   "metadata": {},
   "outputs": [],
   "source": [
    "def train_model(params):\n",
    "    model = create_model(X_train.shape[1])\n",
    "    model.set_weights(params)\n",
    "    history = model.fit(X_train, y_train, epochs=10, batch_size=64, verbose=0, validation_split=0.2)\n",
    "    val_loss = history.history['val_loss'][-1]\n",
    "    return val_loss"
   ]
  },
  {
   "cell_type": "code",
   "execution_count": null,
   "id": "e0c3b60e",
   "metadata": {},
   "outputs": [],
   "source": [
    "# Define bounds for PSO parameters\n",
    "bounds = [(-1, 1)] * sum([coef.size for coef in create_model(X_train.shape[1]).get_weights()])"
   ]
  },
  {
   "cell_type": "code",
   "execution_count": null,
   "id": "01fd6802",
   "metadata": {},
   "outputs": [],
   "source": [
    "# Train neural network using PSO\n",
    "best_weights, best_cost = pso(train_model, bounds, swarmsize=10, maxiter=10, minstep=1e-6, minfunc=1e-6)"
   ]
  },
  {
   "cell_type": "code",
   "execution_count": null,
   "id": "1f29701c",
   "metadata": {},
   "outputs": [],
   "source": [
    "# Create final model with best weights\n",
    "final_model = create_model(X_train.shape[1])\n",
    "final_model.set_weights(best_weights)"
   ]
  },
  {
   "cell_type": "code",
   "execution_count": null,
   "id": "c03749b0",
   "metadata": {},
   "outputs": [],
   "source": [
    "# Evaluate final model on testing set\n",
    "y_pred = final_model.predict_classes(X_test)\n",
    "accuracy = accuracy_score(y_test, y_pred)\n",
    "print(\"Accuracy: {:.2f}%\".format(accuracy * 100))"
   ]
  }
 ],
 "metadata": {
  "kernelspec": {
   "display_name": "Python 3 (ipykernel)",
   "language": "python",
   "name": "python3"
  },
  "language_info": {
   "codemirror_mode": {
    "name": "ipython",
    "version": 3
   },
   "file_extension": ".py",
   "mimetype": "text/x-python",
   "name": "python",
   "nbconvert_exporter": "python",
   "pygments_lexer": "ipython3",
   "version": "3.9.7"
  }
 },
 "nbformat": 4,
 "nbformat_minor": 5
}
