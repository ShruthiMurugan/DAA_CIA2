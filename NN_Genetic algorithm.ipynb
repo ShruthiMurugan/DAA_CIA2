{
 "cells": [
  {
   "cell_type": "markdown",
   "id": "a6bb048e",
   "metadata": {},
   "source": [
    "# Optimization using genetic algorithm"
   ]
  },
  {
   "cell_type": "markdown",
   "id": "7f04990f",
   "metadata": {},
   "source": [
    "## Import libraries"
   ]
  },
  {
   "cell_type": "code",
   "execution_count": null,
   "id": "d7256ce3",
   "metadata": {},
   "outputs": [],
   "source": [
    "import pandas as pd\n",
    "import numpy as np\n",
    "import tensorflow as tf\n",
    "from sklearn.model_selection import train_test_split\n"
   ]
  },
  {
   "cell_type": "markdown",
   "id": "d71b709e",
   "metadata": {},
   "source": [
    "##  Load the dataset"
   ]
  },
  {
   "cell_type": "code",
   "execution_count": null,
   "id": "5ba6284f",
   "metadata": {},
   "outputs": [],
   "source": [
    "\n",
    "data = pd.read_csv(r\"C:\\Users\\amnsh\\OneDrive\\Desktop\\DAA\\Dataset_cia2\\Bank_Personal_Loan_Modelling.csv\")\n"
   ]
  },
  {
   "cell_type": "markdown",
   "id": "76720e89",
   "metadata": {},
   "source": [
    "##  Split the data into features and labels"
   ]
  },
  {
   "cell_type": "code",
   "execution_count": null,
   "id": "b0e1d0d6",
   "metadata": {},
   "outputs": [],
   "source": [
    "X = data.iloc[:, :-1].values\n",
    "y = data.iloc[:, -1].values"
   ]
  },
  {
   "cell_type": "markdown",
   "id": "680f5212",
   "metadata": {},
   "source": [
    "##  Convert the labels to one-hot encoding"
   ]
  },
  {
   "cell_type": "code",
   "execution_count": null,
   "id": "2708be7d",
   "metadata": {},
   "outputs": [],
   "source": [
    "y = tf.keras.utils.to_categorical(y)\n",
    "\n",
    "# Split the data into training and test sets\n",
    "X_train, X_test, y_train, y_test = train_test_split(X, y, test_size=0.2, random_state=42)\n",
    "\n"
   ]
  },
  {
   "cell_type": "markdown",
   "id": "78b1ac4c",
   "metadata": {},
   "source": [
    "## Define the fitness function for the genetic algorithm"
   ]
  },
  {
   "cell_type": "code",
   "execution_count": null,
   "id": "28bbee2e",
   "metadata": {},
   "outputs": [],
   "source": [
    "\n",
    "def fitness_function(individual, X_train, y_train, X_test, y_test):\n",
    "    # Convert the individual into a set of hyperparameters\n",
    "    hidden_layer_sizes = [32, 64, 128, 256, 512]\n",
    "    dropout_rates = [0.0, 0.1, 0.2, 0.3, 0.4, 0.5]\n",
    "    learning_rates = [0.001, 0.01, 0.1]\n",
    "    hidden_layer_size = hidden_layer_sizes[individual[0]]\n",
    "    dropout_rate = dropout_rates[individual[1]]\n",
    "    learning_rate = learning_rates[individual[2]]\n",
    "    # Create the model architecture\n",
    "    model = tf.keras.models.Sequential([\n",
    "        tf.keras.layers.Dense(hidden_layer_size, activation='relu', input_shape=(X_train.shape[1],)),\n",
    "        tf.keras.layers.Dropout(dropout_rate),\n",
    "        tf.keras.layers.Dense(hidden_layer_size, activation='relu'),\n",
    "        tf.keras.layers.Dropout(dropout_rate),\n",
    "        tf.keras.layers.Dense(2, activation='softmax')\n",
    "    ])\n",
    "    # Compile the model\n",
    "    optimizer = tf.keras.optimizers.Adam(learning_rate=learning_rate)\n",
    "    model.compile(optimizer=optimizer,\n",
    "                  loss='categorical_crossentropy',\n",
    "                  metrics=['accuracy'])\n",
    "    # Train the model\n",
    "    model.fit(X_train, y_train, epochs=50, batch_size=32, verbose=0)\n",
    "    # Evaluate the model\n",
    "    _, accuracy = model.evaluate(X_test, y_test, verbose=0)\n",
    "    return accuracy\n"
   ]
  },
  {
   "cell_type": "markdown",
   "id": "6247be46",
   "metadata": {},
   "source": [
    "## Define the genetic algorithm"
   ]
  },
  {
   "cell_type": "code",
   "execution_count": null,
   "id": "f7ad2398",
   "metadata": {},
   "outputs": [],
   "source": [
    "\n",
    "def genetic_algorithm(X_train, y_train, X_test, y_test, population_size=50, generations=20, crossover_probability=0.8, mutation_probability=0.2):\n",
    "    # Define the population initialization function\n",
    "    def create_individual():\n",
    "        hidden_layer_size = np.random.choice([0, 1, 2, 3, 4])\n",
    "        dropout_rate = np.random.choice([0, 1, 2, 3, 4, 5])\n",
    "        learning_rate = np.random.choice([0, 1, 2])\n",
    "        return [hidden_layer_size, dropout_rate, learning_rate]\n",
    "    # Initialize the population\n",
    "    population = [create_individual() for _ in range(population_size)]\n",
    "\n",
    "    # Evaluate the fitness of the initial population\n",
    "    fitness = [fitness_function(individual, X_train, y_train, X_test, y_test) for individual in population]\n",
    "\n",
    "    # Iterate over the generations\n",
    "    for generation in range(generations):\n",
    "        # Select parents for crossover\n",
    "        parents = np.random.choice(population, size=population_size, replace=True, p=fitness/sum(fitness))\n",
    "    \n",
    "        # Perform crossover\n",
    "        offspring = []\n",
    "        for i in range(0, population_size, 2):\n",
    "            parent1 = parents[i]\n",
    "            parent2 = parents[i+1]\n",
    "            if np.random.rand() < crossover_probability:\n",
    "                # Perform uniform crossover\n",
    "                child1 = []\n",
    "                child2 = []\n",
    "                for j in range(len(parent1)):\n",
    "                    if np.random.rand() < 0.5:\n",
    "                        child1.append(parent1[j])\n",
    "                        child2.append(parent2[j])\n",
    "                    else:\n",
    "                        child1.append(parent2[j])\n",
    "                        child2.append(parent1[j])\n",
    "                offspring.append(child1)\n",
    "                offspring.append(child2)\n",
    "            else:\n",
    "                offspring.append(parent1)\n",
    "                offspring.append(parent2)\n",
    "    \n",
    "    # Mutate the offspring\n",
    "    for j in range(len(offspring)):\n",
    "        for k in range(len(offspring[j])):\n",
    "            if np.random.uniform() < mutation_probability:\n",
    "                if k == 0:\n",
    "                    offspring[j][k] = np.random.choice([0, 1, 2, 3, 4])\n",
    "                elif k == 1:\n",
    "                    offspring[j][k] = np.random.choice([0, 1, 2, 3, 4, 5])\n",
    "                else:\n",
    "                    offspring[j][k] = np.random.choice([0, 1, 2])\n",
    "\n",
    "    # Evaluate the fitness of the offspring\n",
    "    offspring_fitness = [fitness_function(individual, X_train, y_train, X_test, y_test) for individual in offspring]\n",
    "\n",
    "    # Combine the parents and offspring\n",
    "    combined_population = population + offspring\n",
    "    combined_fitness = fitness + offspring_fitness\n",
    "\n",
    "    # Select the next generation\n",
    "    sorted_indices = np.argsort(combined_fitness)[::-1][:population_size]\n",
    "    population = [combined_population[i] for i in sorted_indices]\n",
    "    fitness = [combined_fitness[i] for i in sorted_indices]\n",
    "\n",
    "    # Print the best accuracy in the current generation\n",
    "\n",
    "    #print(\"Generation {}: Best accuracy = {}\".format(generation+1, fitness[0]))\n",
    "    # Return the best individual and its fitness\n",
    "    best_individual = population[0]\n",
    "    best_fitness = fitness[0]\n",
    "    return best_individual, best_fitness\n",
    "best_individual, best_fitness = genetic_algorithm(X_train, y_train, X_test, y_test, population_size=50, generations=20, crossover_probability=0.8, mutation_probability=0.2)\n",
    "\n",
    "\n",
    "\n",
    "    "
   ]
  },
  {
   "cell_type": "code",
   "execution_count": null,
   "id": "0767bb6f",
   "metadata": {},
   "outputs": [],
   "source": [
    "print(\"Best individual: {}\".format(best_individual))\n",
    "print(\"A: {}\".format(best_fitness))\n"
   ]
  }
 ],
 "metadata": {
  "kernelspec": {
   "display_name": "Python 3 (ipykernel)",
   "language": "python",
   "name": "python3"
  },
  "language_info": {
   "codemirror_mode": {
    "name": "ipython",
    "version": 3
   },
   "file_extension": ".py",
   "mimetype": "text/x-python",
   "name": "python",
   "nbconvert_exporter": "python",
   "pygments_lexer": "ipython3",
   "version": "3.9.7"
  }
 },
 "nbformat": 4,
 "nbformat_minor": 5
}
