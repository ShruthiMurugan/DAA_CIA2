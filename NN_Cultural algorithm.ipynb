{
 "cells": [
  {
   "cell_type": "markdown",
   "id": "fce00c25",
   "metadata": {},
   "source": [
    "# Optimization using genetic algorithm"
   ]
  },
  {
   "cell_type": "markdown",
   "id": "7d798faf",
   "metadata": {},
   "source": [
    "## Import libraries"
   ]
  },
  {
   "cell_type": "code",
   "execution_count": null,
   "id": "3e7c20b4",
   "metadata": {},
   "outputs": [],
   "source": [
    "\n",
    "import numpy as np\n",
    "import pandas as pd\n",
    "import keras\n",
    "from keras.models import Sequential\n",
    "from keras.layers import Dense\n",
    "from sklearn.model_selection import train_test_split\n",
    "from sklearn.preprocessing import StandardScaler\n",
    "from sklearn.metrics import confusion_matrix\n"
   ]
  },
  {
   "cell_type": "markdown",
   "id": "54b415ee",
   "metadata": {},
   "source": [
    "##  Load the dataset"
   ]
  },
  {
   "cell_type": "code",
   "execution_count": null,
   "id": "4a4b4caa",
   "metadata": {},
   "outputs": [],
   "source": [
    "df = pd.read_csv(r\"C:\\Users\\amnsh\\OneDrive\\Desktop\\DAA\\Dataset_cia2\\Bank_Personal_Loan_Modelling.csv\")"
   ]
  },
  {
   "cell_type": "markdown",
   "id": "eb074bba",
   "metadata": {},
   "source": [
    "## Preprocess the data"
   ]
  },
  {
   "cell_type": "code",
   "execution_count": null,
   "id": "5b74a691",
   "metadata": {},
   "outputs": [],
   "source": [
    "X = df.drop([\"ID\", \"Personal Loan\"], axis=1).values\n",
    "y = df[\"Personal Loan\"].values\n",
    "scaler = StandardScaler()\n",
    "X = scaler.fit_transform(X)\n",
    "X_train, X_test, y_train, y_test = train_test_split(X, y, test_size=0.2, random_state=0)"
   ]
  },
  {
   "cell_type": "markdown",
   "id": "f2f9e42e",
   "metadata": {},
   "source": [
    "## Neural network architecture"
   ]
  },
  {
   "cell_type": "code",
   "execution_count": null,
   "id": "82a820fd",
   "metadata": {},
   "outputs": [],
   "source": [
    "model = Sequential()\n",
    "model.add(Dense(units=6, input_dim=X_train.shape[1], activation='relu'))\n",
    "model.add(Dense(units=6, activation='relu'))\n",
    "model.add(Dense(units=1, activation='sigmoid'))"
   ]
  },
  {
   "cell_type": "markdown",
   "id": "6993d994",
   "metadata": {},
   "source": [
    "## Fitness function"
   ]
  },
  {
   "cell_type": "code",
   "execution_count": null,
   "id": "aba70f3c",
   "metadata": {},
   "outputs": [],
   "source": [
    "\n",
    "def fitness(weights):\n",
    "    model.set_weights(weights)\n",
    "    y_pred = model.predict(X_train)\n",
    "    y_pred = np.round(y_pred)\n",
    "    return -1 * np.sum(y_pred == y_train) / len(y_train)\n"
   ]
  },
  {
   "cell_type": "markdown",
   "id": "573f7066",
   "metadata": {},
   "source": [
    "\n",
    "## Cultural Algorithm"
   ]
  },
  {
   "cell_type": "code",
   "execution_count": null,
   "id": "7159c492",
   "metadata": {},
   "outputs": [],
   "source": [
    "class CulturalAlgorithm:\n",
    "    def __init__(self, population_size, chromosome_length, num_generations, alpha):\n",
    "        self.population_size = population_size\n",
    "        self.chromosome_length = chromosome_length\n",
    "        self.num_generations = num_generations\n",
    "        self.alpha = alpha\n",
    "        self.population = self.initialize_population()\n",
    "\n",
    "    def initialize_population(self):\n",
    "        population = []\n",
    "        for i in range(self.population_size):\n",
    "            chromosome = np.random.uniform(low=-1, high=1, size=self.chromosome_length)\n",
    "            fitness_value = fitness(chromosome)\n",
    "            population.append((chromosome, fitness_value))\n",
    "        return population\n",
    "\n",
    "    def selection(self, population):\n",
    "        population = sorted(population, key=lambda x: x[1])\n",
    "        fittest_individual = population[0]\n",
    "        least_fit_individual = population[-1]\n",
    "        new_population = [fittest_individual, least_fit_individual]\n",
    "        for i in range(self.population_size - 2):\n",
    "            chromosome = population[i][0]\n",
    "            fitness_value = population[i][1]\n",
    "            if np.random.uniform() < np.exp(-self.alpha * fitness_value):\n",
    "                new_population.append((chromosome, fitness_value))\n",
    "        return new_population\n",
    "\n",
    "    def crossover(self, population):\n",
    "        new_population = []\n",
    "        for i in range(self.population_size - 2):\n",
    "            parent1 = population[np.random.randint(len(population))][0]\n",
    "            parent2 = population[np.random.randint(len(population))][0]\n",
    "            crossover_point = np.random.randint(self.chromosome_length)\n",
    "            child1 = np.concatenate((parent1[:crossover_point], parent2[crossover_point:]))\n",
    "            child2 = np.concatenate((parent2[:crossover_point], parent1[crossover_point:]))\n",
    "            fitness_value1 = fitness(child1)\n",
    "            fitness_value2 = fitness(child2)\n",
    "            new_population.append((child1, fitness_value1))\n",
    "            new_population.append((child2, fitness_value2))\n",
    "        return new_population\n",
    "\n",
    "    def mutation(self, population):\n",
    "        new_population = []\n",
    "        for i in range(self.population_size - 2):\n",
    "            chromosome = population[np.random.randint(len(population))][0]\n",
    "            mutation_point = np.random.randint(self.chromosome_length)\n",
    "            mutation_value = np.random.uniform(low=-1, high=1)\n",
    "            chromosome[mutation_point] = mutation_value\n",
    "            fitness_value = fitness(chromosome)\n",
    "            new_population.append((chromosome, fitness_value))\n",
    "        return new_population\n",
    "\n",
    "    def run(self):\n",
    "        for i in range(self.num_generations):\n",
    "            print(f\"Generation {i+1}/{self.num_generations}\")\n",
    "            population = self.selection(self.population)\n",
    "            population = self.crossover(population)\n",
    "            population = self.mutation(population)\n",
    "            self.population = population\n",
    "        \n",
    "        fittest_individual = sorted(self.population, key=lambda x: x[1])[0][0]\n",
    "        return fittest_individual\n",
    "\n"
   ]
  },
  {
   "cell_type": "code",
   "execution_count": null,
   "id": "62887089",
   "metadata": {},
   "outputs": [],
   "source": [
    "weights = model.get_weights()\n",
    "chromosome_length = model.count_params()\n",
    "ca = CulturalAlgorithm(population_size=20, chromosome_length=chromosome_length, num_generations=100, alpha=0.01)\n",
    "\n",
    "best_weights = ca.run()\n",
    "\n",
    "model.set_weights(best_weights)\n",
    "print(\"Best individuals:[]\"{best_weights})"
   ]
  },
  {
   "cell_type": "code",
   "execution_count": null,
   "id": "1b3091d2",
   "metadata": {},
   "outputs": [],
   "source": [
    "y_pred = model.predict(X_test)\n",
    "y_pred = np.round(y_pred)\n",
    "cm = confusion_matrix(y_test, y_pred)\n",
    "accuracy = (cm[0][0] + cm[1][1]) / len(y_test)\n",
    "print(f\"Accuracy: {accuracy*100:.2f}%\")"
   ]
  }
 ],
 "metadata": {
  "kernelspec": {
   "display_name": "Python 3 (ipykernel)",
   "language": "python",
   "name": "python3"
  },
  "language_info": {
   "codemirror_mode": {
    "name": "ipython",
    "version": 3
   },
   "file_extension": ".py",
   "mimetype": "text/x-python",
   "name": "python",
   "nbconvert_exporter": "python",
   "pygments_lexer": "ipython3",
   "version": "3.9.7"
  }
 },
 "nbformat": 4,
 "nbformat_minor": 5
}
